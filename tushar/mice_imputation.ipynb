{
 "cells": [
  {
   "cell_type": "markdown",
   "id": "31e796dd",
   "metadata": {},
   "source": [
    "## Multiple Imputation by Chained Equation(MICE)"
   ]
  },
  {
   "cell_type": "code",
   "execution_count": 1,
   "id": "3905f324",
   "metadata": {},
   "outputs": [],
   "source": [
    "import numpy as np\n",
    "import pandas as pd"
   ]
  },
  {
   "cell_type": "code",
   "execution_count": 2,
   "id": "28e92bec",
   "metadata": {},
   "outputs": [],
   "source": [
    "df=pd.read_csv('Retail_data.csv')"
   ]
  },
  {
   "cell_type": "code",
   "execution_count": 3,
   "id": "88c39b87",
   "metadata": {},
   "outputs": [],
   "source": [
    "pd.set_option(\"display.max_columns\",500)"
   ]
  },
  {
   "cell_type": "code",
   "execution_count": 4,
   "id": "dcaa7342",
   "metadata": {
    "scrolled": true
   },
   "outputs": [
    {
     "data": {
      "text/html": [
       "<div>\n",
       "<style scoped>\n",
       "    .dataframe tbody tr th:only-of-type {\n",
       "        vertical-align: middle;\n",
       "    }\n",
       "\n",
       "    .dataframe tbody tr th {\n",
       "        vertical-align: top;\n",
       "    }\n",
       "\n",
       "    .dataframe thead th {\n",
       "        text-align: right;\n",
       "    }\n",
       "</style>\n",
       "<table border=\"1\" class=\"dataframe\">\n",
       "  <thead>\n",
       "    <tr style=\"text-align: right;\">\n",
       "      <th></th>\n",
       "      <th>hour</th>\n",
       "      <th>order_id</th>\n",
       "      <th>customer_id</th>\n",
       "      <th>product_id</th>\n",
       "      <th>product_price</th>\n",
       "      <th>variant_id</th>\n",
       "      <th>orders</th>\n",
       "      <th>gross_sales</th>\n",
       "      <th>discounts</th>\n",
       "      <th>returns</th>\n",
       "      <th>net_sales</th>\n",
       "      <th>shipping</th>\n",
       "      <th>taxes</th>\n",
       "      <th>total_sales</th>\n",
       "      <th>ordered_item_quantity</th>\n",
       "      <th>net_quantity</th>\n",
       "      <th>returned_item_quantity</th>\n",
       "      <th>order_name</th>\n",
       "      <th>product_type</th>\n",
       "      <th>product_title</th>\n",
       "      <th>product_vendor</th>\n",
       "      <th>variant_title</th>\n",
       "      <th>api_client_title</th>\n",
       "    </tr>\n",
       "  </thead>\n",
       "  <tbody>\n",
       "    <tr>\n",
       "      <th>22016</th>\n",
       "      <td>22-08-2021 15:00</td>\n",
       "      <td>4.024380e+12</td>\n",
       "      <td>5.510250e+12</td>\n",
       "      <td>6.751540e+12</td>\n",
       "      <td>2.99</td>\n",
       "      <td>4.005880e+13</td>\n",
       "      <td>1</td>\n",
       "      <td>5.48</td>\n",
       "      <td>0.0</td>\n",
       "      <td>0.0</td>\n",
       "      <td>5.48</td>\n",
       "      <td>0.0</td>\n",
       "      <td>0.50</td>\n",
       "      <td>5.98</td>\n",
       "      <td>1</td>\n",
       "      <td>1</td>\n",
       "      <td>0</td>\n",
       "      <td>#5191</td>\n",
       "      <td>Flour &amp; Atta</td>\n",
       "      <td>Daily Delight - Periyar- Roasted Rava</td>\n",
       "      <td>Periyar</td>\n",
       "      <td>1 kg</td>\n",
       "      <td>Point of Sale</td>\n",
       "    </tr>\n",
       "    <tr>\n",
       "      <th>26161</th>\n",
       "      <td>10-09-2021 23:00</td>\n",
       "      <td>0.000000e+00</td>\n",
       "      <td>0.000000e+00</td>\n",
       "      <td>0.000000e+00</td>\n",
       "      <td>0.00</td>\n",
       "      <td>0.000000e+00</td>\n",
       "      <td>0</td>\n",
       "      <td>0.00</td>\n",
       "      <td>0.0</td>\n",
       "      <td>0.0</td>\n",
       "      <td>0.00</td>\n",
       "      <td>0.0</td>\n",
       "      <td>0.00</td>\n",
       "      <td>0.00</td>\n",
       "      <td>0</td>\n",
       "      <td>0</td>\n",
       "      <td>0</td>\n",
       "      <td>NaN</td>\n",
       "      <td>NaN</td>\n",
       "      <td>NaN</td>\n",
       "      <td>NaN</td>\n",
       "      <td>NaN</td>\n",
       "      <td>NaN</td>\n",
       "    </tr>\n",
       "    <tr>\n",
       "      <th>35547</th>\n",
       "      <td>15-10-2021 18:00</td>\n",
       "      <td>4.208920e+12</td>\n",
       "      <td>5.269060e+12</td>\n",
       "      <td>6.763900e+12</td>\n",
       "      <td>3.89</td>\n",
       "      <td>4.010340e+13</td>\n",
       "      <td>1</td>\n",
       "      <td>7.14</td>\n",
       "      <td>0.0</td>\n",
       "      <td>0.0</td>\n",
       "      <td>7.14</td>\n",
       "      <td>0.0</td>\n",
       "      <td>0.64</td>\n",
       "      <td>7.78</td>\n",
       "      <td>1</td>\n",
       "      <td>1</td>\n",
       "      <td>0</td>\n",
       "      <td>#7952</td>\n",
       "      <td>Sweets &amp; Snacks</td>\n",
       "      <td>Mithai Sweets - Ladoo</td>\n",
       "      <td>Mithai</td>\n",
       "      <td>450 g</td>\n",
       "      <td>Point of Sale</td>\n",
       "    </tr>\n",
       "  </tbody>\n",
       "</table>\n",
       "</div>"
      ],
      "text/plain": [
       "                   hour      order_id   customer_id    product_id  \\\n",
       "22016  22-08-2021 15:00  4.024380e+12  5.510250e+12  6.751540e+12   \n",
       "26161  10-09-2021 23:00  0.000000e+00  0.000000e+00  0.000000e+00   \n",
       "35547  15-10-2021 18:00  4.208920e+12  5.269060e+12  6.763900e+12   \n",
       "\n",
       "       product_price    variant_id  orders  gross_sales  discounts  returns  \\\n",
       "22016           2.99  4.005880e+13       1         5.48        0.0      0.0   \n",
       "26161           0.00  0.000000e+00       0         0.00        0.0      0.0   \n",
       "35547           3.89  4.010340e+13       1         7.14        0.0      0.0   \n",
       "\n",
       "       net_sales  shipping  taxes  total_sales  ordered_item_quantity  \\\n",
       "22016       5.48       0.0   0.50         5.98                      1   \n",
       "26161       0.00       0.0   0.00         0.00                      0   \n",
       "35547       7.14       0.0   0.64         7.78                      1   \n",
       "\n",
       "       net_quantity  returned_item_quantity order_name     product_type  \\\n",
       "22016             1                       0      #5191     Flour & Atta   \n",
       "26161             0                       0        NaN              NaN   \n",
       "35547             1                       0      #7952  Sweets & Snacks   \n",
       "\n",
       "                               product_title product_vendor variant_title  \\\n",
       "22016  Daily Delight - Periyar- Roasted Rava        Periyar          1 kg   \n",
       "26161                                    NaN            NaN           NaN   \n",
       "35547                  Mithai Sweets - Ladoo         Mithai         450 g   \n",
       "\n",
       "      api_client_title  \n",
       "22016    Point of Sale  \n",
       "26161              NaN  \n",
       "35547    Point of Sale  "
      ]
     },
     "execution_count": 4,
     "metadata": {},
     "output_type": "execute_result"
    }
   ],
   "source": [
    "df.sample(3)"
   ]
  },
  {
   "cell_type": "code",
   "execution_count": 5,
   "id": "afe5aa14",
   "metadata": {},
   "outputs": [],
   "source": [
    "df=df.drop(['hour'], axis=1)"
   ]
  },
  {
   "cell_type": "code",
   "execution_count": 6,
   "id": "acf0e6db",
   "metadata": {},
   "outputs": [
    {
     "name": "stdout",
     "output_type": "stream",
     "text": [
      "<class 'pandas.core.frame.DataFrame'>\n",
      "RangeIndex: 101929 entries, 0 to 101928\n",
      "Data columns (total 22 columns):\n",
      " #   Column                  Non-Null Count   Dtype  \n",
      "---  ------                  --------------   -----  \n",
      " 0   order_id                101929 non-null  float64\n",
      " 1   customer_id             101929 non-null  float64\n",
      " 2   product_id              101929 non-null  float64\n",
      " 3   product_price           101929 non-null  float64\n",
      " 4   variant_id              101929 non-null  float64\n",
      " 5   orders                  101929 non-null  int64  \n",
      " 6   gross_sales             101929 non-null  float64\n",
      " 7   discounts               101929 non-null  float64\n",
      " 8   returns                 101929 non-null  float64\n",
      " 9   net_sales               101929 non-null  float64\n",
      " 10  shipping                101929 non-null  float64\n",
      " 11  taxes                   101929 non-null  float64\n",
      " 12  total_sales             101929 non-null  float64\n",
      " 13  ordered_item_quantity   101929 non-null  int64  \n",
      " 14  net_quantity            101929 non-null  int64  \n",
      " 15  returned_item_quantity  101929 non-null  int64  \n",
      " 16  order_name              95968 non-null   object \n",
      " 17  product_type            79068 non-null   object \n",
      " 18  product_title           95446 non-null   object \n",
      " 19  product_vendor          79563 non-null   object \n",
      " 20  variant_title           70613 non-null   object \n",
      " 21  api_client_title        95968 non-null   object \n",
      "dtypes: float64(12), int64(4), object(6)\n",
      "memory usage: 17.1+ MB\n"
     ]
    }
   ],
   "source": [
    "df.info()"
   ]
  },
  {
   "cell_type": "markdown",
   "id": "e117aed3",
   "metadata": {},
   "source": [
    "The number of categories is quite large as one-hot encoding can lead to high memory consumption. When the order does not matter in categorical feature."
   ]
  },
  {
   "cell_type": "code",
   "execution_count": 7,
   "id": "4d9e4040",
   "metadata": {},
   "outputs": [],
   "source": [
    "#drop the rows that has NaN values in following columns\n",
    "df=df.dropna(subset=['order_name','product_type','product_title','product_vendor','variant_title','api_client_title'], how='all')"
   ]
  },
  {
   "cell_type": "code",
   "execution_count": 8,
   "id": "0d913d3d",
   "metadata": {},
   "outputs": [
    {
     "data": {
      "text/plain": [
       "order_id                      0\n",
       "customer_id                   0\n",
       "product_id                    0\n",
       "product_price                 0\n",
       "variant_id                    0\n",
       "orders                        0\n",
       "gross_sales                   0\n",
       "discounts                     0\n",
       "returns                       0\n",
       "net_sales                     0\n",
       "shipping                      0\n",
       "taxes                         0\n",
       "total_sales                   0\n",
       "ordered_item_quantity         0\n",
       "net_quantity                  0\n",
       "returned_item_quantity        0\n",
       "order_name                    0\n",
       "product_type              16900\n",
       "product_title               522\n",
       "product_vendor            16405\n",
       "variant_title             25355\n",
       "api_client_title              0\n",
       "dtype: int64"
      ]
     },
     "execution_count": 8,
     "metadata": {},
     "output_type": "execute_result"
    }
   ],
   "source": [
    "df.isnull().sum()"
   ]
  },
  {
   "cell_type": "code",
   "execution_count": 9,
   "id": "3dfb7fe2",
   "metadata": {},
   "outputs": [],
   "source": [
    "from sklearn.preprocessing import OrdinalEncoder\n",
    "encoder = OrdinalEncoder()\n",
    "\n",
    "#list of categorical variables\n",
    "var= ['order_name','product_type','product_title','product_vendor','variant_title','api_client_title']\n",
    "\n",
    "#This function will encode non-null data and replace it in the original data\n",
    "def ordinalencode(x):\n",
    "    nonulls = np.array(x.dropna())                                 #retains only non-null values\n",
    "    impute_reshape = nonulls.reshape(-1,1)                         #reshapes the data for encoding\n",
    "    impute_ordinal = encoder.fit_transform(impute_reshape)         #encode data\n",
    "    x.loc[x.notnull()] = np.squeeze(impute_ordinal)                #Assign back encoded values to non-null values\n",
    "    return x\n",
    "\n",
    "#encoding all the categorical data in the data set through for loop\n",
    "\n",
    "for i in var:\n",
    "    ordinalencode(df[i])"
   ]
  },
  {
   "cell_type": "code",
   "execution_count": 10,
   "id": "9a4c5d23",
   "metadata": {},
   "outputs": [
    {
     "data": {
      "text/html": [
       "<div>\n",
       "<style scoped>\n",
       "    .dataframe tbody tr th:only-of-type {\n",
       "        vertical-align: middle;\n",
       "    }\n",
       "\n",
       "    .dataframe tbody tr th {\n",
       "        vertical-align: top;\n",
       "    }\n",
       "\n",
       "    .dataframe thead th {\n",
       "        text-align: right;\n",
       "    }\n",
       "</style>\n",
       "<table border=\"1\" class=\"dataframe\">\n",
       "  <thead>\n",
       "    <tr style=\"text-align: right;\">\n",
       "      <th></th>\n",
       "      <th>order_id</th>\n",
       "      <th>customer_id</th>\n",
       "      <th>product_id</th>\n",
       "      <th>product_price</th>\n",
       "      <th>variant_id</th>\n",
       "      <th>orders</th>\n",
       "      <th>gross_sales</th>\n",
       "      <th>discounts</th>\n",
       "      <th>returns</th>\n",
       "      <th>net_sales</th>\n",
       "      <th>shipping</th>\n",
       "      <th>taxes</th>\n",
       "      <th>total_sales</th>\n",
       "      <th>ordered_item_quantity</th>\n",
       "      <th>net_quantity</th>\n",
       "      <th>returned_item_quantity</th>\n",
       "      <th>order_name</th>\n",
       "      <th>product_type</th>\n",
       "      <th>product_title</th>\n",
       "      <th>product_vendor</th>\n",
       "      <th>variant_title</th>\n",
       "      <th>api_client_title</th>\n",
       "    </tr>\n",
       "  </thead>\n",
       "  <tbody>\n",
       "    <tr>\n",
       "      <th>11</th>\n",
       "      <td>3.824510e+12</td>\n",
       "      <td>5.268530e+12</td>\n",
       "      <td>5.931930e+12</td>\n",
       "      <td>0.99</td>\n",
       "      <td>3.705210e+13</td>\n",
       "      <td>1</td>\n",
       "      <td>1.82</td>\n",
       "      <td>-0.18</td>\n",
       "      <td>0.0</td>\n",
       "      <td>1.64</td>\n",
       "      <td>0.0</td>\n",
       "      <td>0.14</td>\n",
       "      <td>1.78</td>\n",
       "      <td>1</td>\n",
       "      <td>1</td>\n",
       "      <td>0</td>\n",
       "      <td>782.0</td>\n",
       "      <td>5.0</td>\n",
       "      <td>2198.0</td>\n",
       "      <td>52.0</td>\n",
       "      <td>19.0</td>\n",
       "      <td>2.0</td>\n",
       "    </tr>\n",
       "    <tr>\n",
       "      <th>12</th>\n",
       "      <td>3.824510e+12</td>\n",
       "      <td>5.268530e+12</td>\n",
       "      <td>5.931930e+12</td>\n",
       "      <td>1.39</td>\n",
       "      <td>3.705210e+13</td>\n",
       "      <td>1</td>\n",
       "      <td>2.54</td>\n",
       "      <td>-0.24</td>\n",
       "      <td>0.0</td>\n",
       "      <td>2.30</td>\n",
       "      <td>0.0</td>\n",
       "      <td>0.20</td>\n",
       "      <td>2.50</td>\n",
       "      <td>1</td>\n",
       "      <td>1</td>\n",
       "      <td>0</td>\n",
       "      <td>782.0</td>\n",
       "      <td>9.0</td>\n",
       "      <td>7665.0</td>\n",
       "      <td>155.0</td>\n",
       "      <td>8.0</td>\n",
       "      <td>2.0</td>\n",
       "    </tr>\n",
       "    <tr>\n",
       "      <th>13</th>\n",
       "      <td>3.824510e+12</td>\n",
       "      <td>5.268530e+12</td>\n",
       "      <td>6.723260e+12</td>\n",
       "      <td>0.79</td>\n",
       "      <td>3.994350e+13</td>\n",
       "      <td>1</td>\n",
       "      <td>1.30</td>\n",
       "      <td>-0.12</td>\n",
       "      <td>0.0</td>\n",
       "      <td>1.18</td>\n",
       "      <td>0.0</td>\n",
       "      <td>0.24</td>\n",
       "      <td>1.42</td>\n",
       "      <td>1</td>\n",
       "      <td>1</td>\n",
       "      <td>0</td>\n",
       "      <td>782.0</td>\n",
       "      <td>2.0</td>\n",
       "      <td>4568.0</td>\n",
       "      <td>173.0</td>\n",
       "      <td>NaN</td>\n",
       "      <td>2.0</td>\n",
       "    </tr>\n",
       "  </tbody>\n",
       "</table>\n",
       "</div>"
      ],
      "text/plain": [
       "        order_id   customer_id    product_id  product_price    variant_id  \\\n",
       "11  3.824510e+12  5.268530e+12  5.931930e+12           0.99  3.705210e+13   \n",
       "12  3.824510e+12  5.268530e+12  5.931930e+12           1.39  3.705210e+13   \n",
       "13  3.824510e+12  5.268530e+12  6.723260e+12           0.79  3.994350e+13   \n",
       "\n",
       "    orders  gross_sales  discounts  returns  net_sales  shipping  taxes  \\\n",
       "11       1         1.82      -0.18      0.0       1.64       0.0   0.14   \n",
       "12       1         2.54      -0.24      0.0       2.30       0.0   0.20   \n",
       "13       1         1.30      -0.12      0.0       1.18       0.0   0.24   \n",
       "\n",
       "    total_sales  ordered_item_quantity  net_quantity  returned_item_quantity  \\\n",
       "11         1.78                      1             1                       0   \n",
       "12         2.50                      1             1                       0   \n",
       "13         1.42                      1             1                       0   \n",
       "\n",
       "   order_name product_type product_title product_vendor variant_title  \\\n",
       "11      782.0          5.0        2198.0           52.0          19.0   \n",
       "12      782.0          9.0        7665.0          155.0           8.0   \n",
       "13      782.0          2.0        4568.0          173.0           NaN   \n",
       "\n",
       "   api_client_title  \n",
       "11              2.0  \n",
       "12              2.0  \n",
       "13              2.0  "
      ]
     },
     "execution_count": 10,
     "metadata": {},
     "output_type": "execute_result"
    }
   ],
   "source": [
    "df.head(3)"
   ]
  },
  {
   "cell_type": "markdown",
   "id": "18a451b2",
   "metadata": {},
   "source": [
    "The MICE algorithm can impute mixes of continuous, binary, unordered categorical and ordered categorical data"
   ]
  },
  {
   "cell_type": "code",
   "execution_count": 11,
   "id": "bb365016",
   "metadata": {},
   "outputs": [],
   "source": [
    "from sklearn.experimental import enable_iterative_imputer\n",
    "from sklearn.impute import IterativeImputer\n",
    "from sklearn.linear_model import LinearRegression"
   ]
  },
  {
   "cell_type": "code",
   "execution_count": 12,
   "id": "45252b42",
   "metadata": {},
   "outputs": [
    {
     "name": "stdout",
     "output_type": "stream",
     "text": [
      "[IterativeImputer] Completing matrix with shape (95968, 22)\n",
      "[IterativeImputer] Ending imputation round 1/10, elapsed time 1.89\n",
      "[IterativeImputer] Change: 1761.900832390595, scaled tolerance: 43049600000.0 \n",
      "[IterativeImputer] Early stopping criterion reached.\n"
     ]
    }
   ],
   "source": [
    "lr = LinearRegression()\n",
    "imp = IterativeImputer(estimator=lr,missing_values=np.nan, max_iter=10, verbose=2, imputation_order='roman',random_state=0)\n",
    "X=imp.fit_transform(df)"
   ]
  },
  {
   "cell_type": "code",
   "execution_count": 13,
   "id": "18c6cb38",
   "metadata": {},
   "outputs": [],
   "source": [
    "df = pd.DataFrame(X,columns=df.columns)"
   ]
  },
  {
   "cell_type": "code",
   "execution_count": 14,
   "id": "87113a64",
   "metadata": {},
   "outputs": [
    {
     "data": {
      "text/plain": [
       "(95968, 22)"
      ]
     },
     "execution_count": 14,
     "metadata": {},
     "output_type": "execute_result"
    }
   ],
   "source": [
    "df.shape"
   ]
  }
 ],
 "metadata": {
  "kernelspec": {
   "display_name": "Python 3 (ipykernel)",
   "language": "python",
   "name": "python3"
  },
  "language_info": {
   "codemirror_mode": {
    "name": "ipython",
    "version": 3
   },
   "file_extension": ".py",
   "mimetype": "text/x-python",
   "name": "python",
   "nbconvert_exporter": "python",
   "pygments_lexer": "ipython3",
   "version": "3.9.7"
  }
 },
 "nbformat": 4,
 "nbformat_minor": 5
}
