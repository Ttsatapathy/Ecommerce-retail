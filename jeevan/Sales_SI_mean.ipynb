{
  "nbformat": 4,
  "nbformat_minor": 0,
  "metadata": {
    "colab": {
      "provenance": []
    },
    "kernelspec": {
      "name": "python3",
      "display_name": "Python 3"
    },
    "language_info": {
      "name": "python"
    }
  },
  "cells": [
    {
      "cell_type": "code",
      "execution_count": 6,
      "metadata": {
        "id": "K0J1KuoRECbY"
      },
      "outputs": [],
      "source": [
        "import pandas as pd\n",
        "import numpy as np\n",
        "from sklearn.impute import SimpleImputer\n",
        "from sklearn.preprocessing import LabelEncoder"
      ]
    },
    {
      "cell_type": "code",
      "source": [
        "sales_data = pd.read_csv(\"Retail_data.csv\")"
      ],
      "metadata": {
        "id": "7FihH-UnFDEF"
      },
      "execution_count": 3,
      "outputs": []
    },
    {
      "cell_type": "code",
      "source": [
        "sales_data.info()"
      ],
      "metadata": {
        "colab": {
          "base_uri": "https://localhost:8080/"
        },
        "id": "UUT44f7OFMiI",
        "outputId": "736b034d-9c6a-4fb9-ecac-a8b0b1e6621a"
      },
      "execution_count": 4,
      "outputs": [
        {
          "output_type": "stream",
          "name": "stdout",
          "text": [
            "<class 'pandas.core.frame.DataFrame'>\n",
            "RangeIndex: 101929 entries, 0 to 101928\n",
            "Data columns (total 23 columns):\n",
            " #   Column                  Non-Null Count   Dtype  \n",
            "---  ------                  --------------   -----  \n",
            " 0   hour                    101929 non-null  object \n",
            " 1   order_id                101929 non-null  float64\n",
            " 2   customer_id             101929 non-null  float64\n",
            " 3   product_id              101929 non-null  float64\n",
            " 4   product_price           101929 non-null  float64\n",
            " 5   variant_id              101929 non-null  float64\n",
            " 6   orders                  101929 non-null  int64  \n",
            " 7   gross_sales             101929 non-null  float64\n",
            " 8   discounts               101929 non-null  float64\n",
            " 9   returns                 101929 non-null  float64\n",
            " 10  net_sales               101929 non-null  float64\n",
            " 11  shipping                101929 non-null  float64\n",
            " 12  taxes                   101929 non-null  float64\n",
            " 13  total_sales             101929 non-null  float64\n",
            " 14  ordered_item_quantity   101929 non-null  int64  \n",
            " 15  net_quantity            101929 non-null  int64  \n",
            " 16  returned_item_quantity  101929 non-null  int64  \n",
            " 17  order_name              95968 non-null   object \n",
            " 18  product_type            79068 non-null   object \n",
            " 19  product_title           95446 non-null   object \n",
            " 20  product_vendor          79563 non-null   object \n",
            " 21  variant_title           70613 non-null   object \n",
            " 22  api_client_title        95968 non-null   object \n",
            "dtypes: float64(12), int64(4), object(7)\n",
            "memory usage: 17.9+ MB\n"
          ]
        }
      ]
    },
    {
      "cell_type": "code",
      "source": [
        "sales_data.isnull().sum()"
      ],
      "metadata": {
        "colab": {
          "base_uri": "https://localhost:8080/"
        },
        "id": "26rYiqWBFUBC",
        "outputId": "dc194cf0-b102-4782-d199-835792c910c4"
      },
      "execution_count": 5,
      "outputs": [
        {
          "output_type": "execute_result",
          "data": {
            "text/plain": [
              "hour                          0\n",
              "order_id                      0\n",
              "customer_id                   0\n",
              "product_id                    0\n",
              "product_price                 0\n",
              "variant_id                    0\n",
              "orders                        0\n",
              "gross_sales                   0\n",
              "discounts                     0\n",
              "returns                       0\n",
              "net_sales                     0\n",
              "shipping                      0\n",
              "taxes                         0\n",
              "total_sales                   0\n",
              "ordered_item_quantity         0\n",
              "net_quantity                  0\n",
              "returned_item_quantity        0\n",
              "order_name                 5961\n",
              "product_type              22861\n",
              "product_title              6483\n",
              "product_vendor            22366\n",
              "variant_title             31316\n",
              "api_client_title           5961\n",
              "dtype: int64"
            ]
          },
          "metadata": {},
          "execution_count": 5
        }
      ]
    },
    {
      "cell_type": "code",
      "source": [
        "df = sales_data.apply(lambda series: pd.Series(\n",
        "        LabelEncoder().fit_transform(series[series.notnull()]),\n",
        "        index=series[series.notnull()].index))"
      ],
      "metadata": {
        "id": "gBufgQcCFiQW"
      },
      "execution_count": 7,
      "outputs": []
    },
    {
      "cell_type": "code",
      "source": [
        "import time\n",
        "start_time = time.time()\n",
        "\n",
        "imputer = SimpleImputer(strategy = 'mean')\n",
        "imputer.fit(df)\n",
        "sales_data_imputed_mean = imputer.transform(df)\n",
        "\n",
        "\n",
        "print(\"--- %s seconds ---\" % (time.time() - start_time))"
      ],
      "metadata": {
        "colab": {
          "base_uri": "https://localhost:8080/"
        },
        "id": "PJA9iFMYHYlJ",
        "outputId": "0f812c60-fa47-4069-996c-f6da6ccb327a"
      },
      "execution_count": 8,
      "outputs": [
        {
          "output_type": "stream",
          "name": "stdout",
          "text": [
            "--- 0.10943770408630371 seconds ---\n"
          ]
        }
      ]
    },
    {
      "cell_type": "code",
      "source": [
        "sales_data_si_mean = pd.DataFrame(sales_data_imputed_mean, columns=df.columns)\n",
        "sales_data_si_mean.head()"
      ],
      "metadata": {
        "colab": {
          "base_uri": "https://localhost:8080/",
          "height": 300
        },
        "id": "bIxlIMH0H1U5",
        "outputId": "6833f067-c6a6-4d61-a68d-07fa2bf45126"
      },
      "execution_count": 9,
      "outputs": [
        {
          "output_type": "execute_result",
          "data": {
            "text/plain": [
              "     hour  order_id  customer_id  product_id  product_price  variant_id  \\\n",
              "0  6432.0       0.0          0.0         0.0            0.0         0.0   \n",
              "1  6433.0       0.0          0.0         0.0            0.0         0.0   \n",
              "2  6434.0       0.0          0.0         0.0            0.0         0.0   \n",
              "3  6435.0       0.0          0.0         0.0            0.0         0.0   \n",
              "4  6436.0       0.0          0.0         0.0            0.0         0.0   \n",
              "\n",
              "   orders  gross_sales  discounts  returns  ...  total_sales  \\\n",
              "0     0.0          0.0      394.0    131.0  ...         98.0   \n",
              "1     0.0          0.0      394.0    131.0  ...         98.0   \n",
              "2     0.0          0.0      394.0    131.0  ...         98.0   \n",
              "3     0.0          0.0      394.0    131.0  ...         98.0   \n",
              "4     0.0          0.0      394.0    131.0  ...         98.0   \n",
              "\n",
              "   ordered_item_quantity  net_quantity  returned_item_quantity   order_name  \\\n",
              "0                    0.0           5.0                     5.0  9519.363975   \n",
              "1                    0.0           5.0                     5.0  9519.363975   \n",
              "2                    0.0           5.0                     5.0  9519.363975   \n",
              "3                    0.0           5.0                     5.0  9519.363975   \n",
              "4                    0.0           5.0                     5.0  9519.363975   \n",
              "\n",
              "   product_type  product_title  product_vendor  variant_title  \\\n",
              "0       8.24632    3885.162563       96.625806      75.379024   \n",
              "1       8.24632    3885.162563       96.625806      75.379024   \n",
              "2       8.24632    3885.162563       96.625806      75.379024   \n",
              "3       8.24632    3885.162563       96.625806      75.379024   \n",
              "4       8.24632    3885.162563       96.625806      75.379024   \n",
              "\n",
              "   api_client_title  \n",
              "0          1.935968  \n",
              "1          1.935968  \n",
              "2          1.935968  \n",
              "3          1.935968  \n",
              "4          1.935968  \n",
              "\n",
              "[5 rows x 23 columns]"
            ],
            "text/html": [
              "\n",
              "  <div id=\"df-f6dbf61c-d3ff-44ea-bc0f-0cf6068c0c4f\">\n",
              "    <div class=\"colab-df-container\">\n",
              "      <div>\n",
              "<style scoped>\n",
              "    .dataframe tbody tr th:only-of-type {\n",
              "        vertical-align: middle;\n",
              "    }\n",
              "\n",
              "    .dataframe tbody tr th {\n",
              "        vertical-align: top;\n",
              "    }\n",
              "\n",
              "    .dataframe thead th {\n",
              "        text-align: right;\n",
              "    }\n",
              "</style>\n",
              "<table border=\"1\" class=\"dataframe\">\n",
              "  <thead>\n",
              "    <tr style=\"text-align: right;\">\n",
              "      <th></th>\n",
              "      <th>hour</th>\n",
              "      <th>order_id</th>\n",
              "      <th>customer_id</th>\n",
              "      <th>product_id</th>\n",
              "      <th>product_price</th>\n",
              "      <th>variant_id</th>\n",
              "      <th>orders</th>\n",
              "      <th>gross_sales</th>\n",
              "      <th>discounts</th>\n",
              "      <th>returns</th>\n",
              "      <th>...</th>\n",
              "      <th>total_sales</th>\n",
              "      <th>ordered_item_quantity</th>\n",
              "      <th>net_quantity</th>\n",
              "      <th>returned_item_quantity</th>\n",
              "      <th>order_name</th>\n",
              "      <th>product_type</th>\n",
              "      <th>product_title</th>\n",
              "      <th>product_vendor</th>\n",
              "      <th>variant_title</th>\n",
              "      <th>api_client_title</th>\n",
              "    </tr>\n",
              "  </thead>\n",
              "  <tbody>\n",
              "    <tr>\n",
              "      <th>0</th>\n",
              "      <td>6432.0</td>\n",
              "      <td>0.0</td>\n",
              "      <td>0.0</td>\n",
              "      <td>0.0</td>\n",
              "      <td>0.0</td>\n",
              "      <td>0.0</td>\n",
              "      <td>0.0</td>\n",
              "      <td>0.0</td>\n",
              "      <td>394.0</td>\n",
              "      <td>131.0</td>\n",
              "      <td>...</td>\n",
              "      <td>98.0</td>\n",
              "      <td>0.0</td>\n",
              "      <td>5.0</td>\n",
              "      <td>5.0</td>\n",
              "      <td>9519.363975</td>\n",
              "      <td>8.24632</td>\n",
              "      <td>3885.162563</td>\n",
              "      <td>96.625806</td>\n",
              "      <td>75.379024</td>\n",
              "      <td>1.935968</td>\n",
              "    </tr>\n",
              "    <tr>\n",
              "      <th>1</th>\n",
              "      <td>6433.0</td>\n",
              "      <td>0.0</td>\n",
              "      <td>0.0</td>\n",
              "      <td>0.0</td>\n",
              "      <td>0.0</td>\n",
              "      <td>0.0</td>\n",
              "      <td>0.0</td>\n",
              "      <td>0.0</td>\n",
              "      <td>394.0</td>\n",
              "      <td>131.0</td>\n",
              "      <td>...</td>\n",
              "      <td>98.0</td>\n",
              "      <td>0.0</td>\n",
              "      <td>5.0</td>\n",
              "      <td>5.0</td>\n",
              "      <td>9519.363975</td>\n",
              "      <td>8.24632</td>\n",
              "      <td>3885.162563</td>\n",
              "      <td>96.625806</td>\n",
              "      <td>75.379024</td>\n",
              "      <td>1.935968</td>\n",
              "    </tr>\n",
              "    <tr>\n",
              "      <th>2</th>\n",
              "      <td>6434.0</td>\n",
              "      <td>0.0</td>\n",
              "      <td>0.0</td>\n",
              "      <td>0.0</td>\n",
              "      <td>0.0</td>\n",
              "      <td>0.0</td>\n",
              "      <td>0.0</td>\n",
              "      <td>0.0</td>\n",
              "      <td>394.0</td>\n",
              "      <td>131.0</td>\n",
              "      <td>...</td>\n",
              "      <td>98.0</td>\n",
              "      <td>0.0</td>\n",
              "      <td>5.0</td>\n",
              "      <td>5.0</td>\n",
              "      <td>9519.363975</td>\n",
              "      <td>8.24632</td>\n",
              "      <td>3885.162563</td>\n",
              "      <td>96.625806</td>\n",
              "      <td>75.379024</td>\n",
              "      <td>1.935968</td>\n",
              "    </tr>\n",
              "    <tr>\n",
              "      <th>3</th>\n",
              "      <td>6435.0</td>\n",
              "      <td>0.0</td>\n",
              "      <td>0.0</td>\n",
              "      <td>0.0</td>\n",
              "      <td>0.0</td>\n",
              "      <td>0.0</td>\n",
              "      <td>0.0</td>\n",
              "      <td>0.0</td>\n",
              "      <td>394.0</td>\n",
              "      <td>131.0</td>\n",
              "      <td>...</td>\n",
              "      <td>98.0</td>\n",
              "      <td>0.0</td>\n",
              "      <td>5.0</td>\n",
              "      <td>5.0</td>\n",
              "      <td>9519.363975</td>\n",
              "      <td>8.24632</td>\n",
              "      <td>3885.162563</td>\n",
              "      <td>96.625806</td>\n",
              "      <td>75.379024</td>\n",
              "      <td>1.935968</td>\n",
              "    </tr>\n",
              "    <tr>\n",
              "      <th>4</th>\n",
              "      <td>6436.0</td>\n",
              "      <td>0.0</td>\n",
              "      <td>0.0</td>\n",
              "      <td>0.0</td>\n",
              "      <td>0.0</td>\n",
              "      <td>0.0</td>\n",
              "      <td>0.0</td>\n",
              "      <td>0.0</td>\n",
              "      <td>394.0</td>\n",
              "      <td>131.0</td>\n",
              "      <td>...</td>\n",
              "      <td>98.0</td>\n",
              "      <td>0.0</td>\n",
              "      <td>5.0</td>\n",
              "      <td>5.0</td>\n",
              "      <td>9519.363975</td>\n",
              "      <td>8.24632</td>\n",
              "      <td>3885.162563</td>\n",
              "      <td>96.625806</td>\n",
              "      <td>75.379024</td>\n",
              "      <td>1.935968</td>\n",
              "    </tr>\n",
              "  </tbody>\n",
              "</table>\n",
              "<p>5 rows × 23 columns</p>\n",
              "</div>\n",
              "      <button class=\"colab-df-convert\" onclick=\"convertToInteractive('df-f6dbf61c-d3ff-44ea-bc0f-0cf6068c0c4f')\"\n",
              "              title=\"Convert this dataframe to an interactive table.\"\n",
              "              style=\"display:none;\">\n",
              "        \n",
              "  <svg xmlns=\"http://www.w3.org/2000/svg\" height=\"24px\"viewBox=\"0 0 24 24\"\n",
              "       width=\"24px\">\n",
              "    <path d=\"M0 0h24v24H0V0z\" fill=\"none\"/>\n",
              "    <path d=\"M18.56 5.44l.94 2.06.94-2.06 2.06-.94-2.06-.94-.94-2.06-.94 2.06-2.06.94zm-11 1L8.5 8.5l.94-2.06 2.06-.94-2.06-.94L8.5 2.5l-.94 2.06-2.06.94zm10 10l.94 2.06.94-2.06 2.06-.94-2.06-.94-.94-2.06-.94 2.06-2.06.94z\"/><path d=\"M17.41 7.96l-1.37-1.37c-.4-.4-.92-.59-1.43-.59-.52 0-1.04.2-1.43.59L10.3 9.45l-7.72 7.72c-.78.78-.78 2.05 0 2.83L4 21.41c.39.39.9.59 1.41.59.51 0 1.02-.2 1.41-.59l7.78-7.78 2.81-2.81c.8-.78.8-2.07 0-2.86zM5.41 20L4 18.59l7.72-7.72 1.47 1.35L5.41 20z\"/>\n",
              "  </svg>\n",
              "      </button>\n",
              "      \n",
              "  <style>\n",
              "    .colab-df-container {\n",
              "      display:flex;\n",
              "      flex-wrap:wrap;\n",
              "      gap: 12px;\n",
              "    }\n",
              "\n",
              "    .colab-df-convert {\n",
              "      background-color: #E8F0FE;\n",
              "      border: none;\n",
              "      border-radius: 50%;\n",
              "      cursor: pointer;\n",
              "      display: none;\n",
              "      fill: #1967D2;\n",
              "      height: 32px;\n",
              "      padding: 0 0 0 0;\n",
              "      width: 32px;\n",
              "    }\n",
              "\n",
              "    .colab-df-convert:hover {\n",
              "      background-color: #E2EBFA;\n",
              "      box-shadow: 0px 1px 2px rgba(60, 64, 67, 0.3), 0px 1px 3px 1px rgba(60, 64, 67, 0.15);\n",
              "      fill: #174EA6;\n",
              "    }\n",
              "\n",
              "    [theme=dark] .colab-df-convert {\n",
              "      background-color: #3B4455;\n",
              "      fill: #D2E3FC;\n",
              "    }\n",
              "\n",
              "    [theme=dark] .colab-df-convert:hover {\n",
              "      background-color: #434B5C;\n",
              "      box-shadow: 0px 1px 3px 1px rgba(0, 0, 0, 0.15);\n",
              "      filter: drop-shadow(0px 1px 2px rgba(0, 0, 0, 0.3));\n",
              "      fill: #FFFFFF;\n",
              "    }\n",
              "  </style>\n",
              "\n",
              "      <script>\n",
              "        const buttonEl =\n",
              "          document.querySelector('#df-f6dbf61c-d3ff-44ea-bc0f-0cf6068c0c4f button.colab-df-convert');\n",
              "        buttonEl.style.display =\n",
              "          google.colab.kernel.accessAllowed ? 'block' : 'none';\n",
              "\n",
              "        async function convertToInteractive(key) {\n",
              "          const element = document.querySelector('#df-f6dbf61c-d3ff-44ea-bc0f-0cf6068c0c4f');\n",
              "          const dataTable =\n",
              "            await google.colab.kernel.invokeFunction('convertToInteractive',\n",
              "                                                     [key], {});\n",
              "          if (!dataTable) return;\n",
              "\n",
              "          const docLinkHtml = 'Like what you see? Visit the ' +\n",
              "            '<a target=\"_blank\" href=https://colab.research.google.com/notebooks/data_table.ipynb>data table notebook</a>'\n",
              "            + ' to learn more about interactive tables.';\n",
              "          element.innerHTML = '';\n",
              "          dataTable['output_type'] = 'display_data';\n",
              "          await google.colab.output.renderOutput(dataTable, element);\n",
              "          const docLink = document.createElement('div');\n",
              "          docLink.innerHTML = docLinkHtml;\n",
              "          element.appendChild(docLink);\n",
              "        }\n",
              "      </script>\n",
              "    </div>\n",
              "  </div>\n",
              "  "
            ]
          },
          "metadata": {},
          "execution_count": 9
        }
      ]
    },
    {
      "cell_type": "code",
      "source": [
        "sales_data_si_mean.isnull().sum()"
      ],
      "metadata": {
        "colab": {
          "base_uri": "https://localhost:8080/"
        },
        "id": "1dAQ3UkKIHPy",
        "outputId": "c54b42b6-c2eb-4e30-e27b-d723f6b17acc"
      },
      "execution_count": 10,
      "outputs": [
        {
          "output_type": "execute_result",
          "data": {
            "text/plain": [
              "hour                      0\n",
              "order_id                  0\n",
              "customer_id               0\n",
              "product_id                0\n",
              "product_price             0\n",
              "variant_id                0\n",
              "orders                    0\n",
              "gross_sales               0\n",
              "discounts                 0\n",
              "returns                   0\n",
              "net_sales                 0\n",
              "shipping                  0\n",
              "taxes                     0\n",
              "total_sales               0\n",
              "ordered_item_quantity     0\n",
              "net_quantity              0\n",
              "returned_item_quantity    0\n",
              "order_name                0\n",
              "product_type              0\n",
              "product_title             0\n",
              "product_vendor            0\n",
              "variant_title             0\n",
              "api_client_title          0\n",
              "dtype: int64"
            ]
          },
          "metadata": {},
          "execution_count": 10
        }
      ]
    }
  ]
}