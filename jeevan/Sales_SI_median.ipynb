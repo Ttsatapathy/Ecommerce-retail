{
  "nbformat": 4,
  "nbformat_minor": 0,
  "metadata": {
    "colab": {
      "provenance": []
    },
    "kernelspec": {
      "name": "python3",
      "display_name": "Python 3"
    },
    "language_info": {
      "name": "python"
    }
  },
  "cells": [
    {
      "cell_type": "code",
      "execution_count": 1,
      "metadata": {
        "id": "bXlahaAcI08v"
      },
      "outputs": [],
      "source": [
        "import pandas as pd\n",
        "import numpy as np\n",
        "from sklearn.preprocessing import LabelEncoder\n",
        "from sklearn.impute import SimpleImputer"
      ]
    },
    {
      "cell_type": "code",
      "source": [
        "sales_data = pd.read_csv(\"Retail_data.csv\")"
      ],
      "metadata": {
        "id": "yzbxFwuvJMHk"
      },
      "execution_count": 2,
      "outputs": []
    },
    {
      "cell_type": "code",
      "source": [
        "sales_data.info()"
      ],
      "metadata": {
        "colab": {
          "base_uri": "https://localhost:8080/"
        },
        "id": "AxdyMOsyJO9L",
        "outputId": "66f43b37-994e-4f33-d449-20875642093c"
      },
      "execution_count": 3,
      "outputs": [
        {
          "output_type": "stream",
          "name": "stdout",
          "text": [
            "<class 'pandas.core.frame.DataFrame'>\n",
            "RangeIndex: 51218 entries, 0 to 51217\n",
            "Data columns (total 23 columns):\n",
            " #   Column                  Non-Null Count  Dtype  \n",
            "---  ------                  --------------  -----  \n",
            " 0   hour                    51218 non-null  object \n",
            " 1   order_id                51218 non-null  float64\n",
            " 2   customer_id             51218 non-null  float64\n",
            " 3   product_id              51218 non-null  float64\n",
            " 4   product_price           51218 non-null  float64\n",
            " 5   variant_id              51218 non-null  float64\n",
            " 6   orders                  51218 non-null  int64  \n",
            " 7   gross_sales             51218 non-null  float64\n",
            " 8   discounts               51218 non-null  float64\n",
            " 9   returns                 51218 non-null  float64\n",
            " 10  net_sales               51218 non-null  float64\n",
            " 11  shipping                51217 non-null  float64\n",
            " 12  taxes                   51217 non-null  float64\n",
            " 13  total_sales             51217 non-null  float64\n",
            " 14  ordered_item_quantity   51217 non-null  float64\n",
            " 15  net_quantity            51217 non-null  float64\n",
            " 16  returned_item_quantity  51217 non-null  float64\n",
            " 17  order_name              47837 non-null  object \n",
            " 18  product_type            39107 non-null  object \n",
            " 19  product_title           47810 non-null  object \n",
            " 20  product_vendor          39553 non-null  object \n",
            " 21  variant_title           33845 non-null  object \n",
            " 22  api_client_title        47837 non-null  object \n",
            "dtypes: float64(15), int64(1), object(7)\n",
            "memory usage: 9.0+ MB\n"
          ]
        }
      ]
    },
    {
      "cell_type": "code",
      "source": [
        "sales_data.isnull().sum()"
      ],
      "metadata": {
        "colab": {
          "base_uri": "https://localhost:8080/"
        },
        "id": "QepXMzYxJSpa",
        "outputId": "ccf77edd-d05a-414d-c358-a1e7d5487731"
      },
      "execution_count": 4,
      "outputs": [
        {
          "output_type": "execute_result",
          "data": {
            "text/plain": [
              "hour                          0\n",
              "order_id                      0\n",
              "customer_id                   0\n",
              "product_id                    0\n",
              "product_price                 0\n",
              "variant_id                    0\n",
              "orders                        0\n",
              "gross_sales                   0\n",
              "discounts                     0\n",
              "returns                       0\n",
              "net_sales                     0\n",
              "shipping                      1\n",
              "taxes                         1\n",
              "total_sales                   1\n",
              "ordered_item_quantity         1\n",
              "net_quantity                  1\n",
              "returned_item_quantity        1\n",
              "order_name                 3381\n",
              "product_type              12111\n",
              "product_title              3408\n",
              "product_vendor            11665\n",
              "variant_title             17373\n",
              "api_client_title           3381\n",
              "dtype: int64"
            ]
          },
          "metadata": {},
          "execution_count": 4
        }
      ]
    },
    {
      "cell_type": "code",
      "source": [
        "df = sales_data.apply(lambda series: pd.Series(\n",
        "        LabelEncoder().fit_transform(series[series.notnull()]),\n",
        "        index=series[series.notnull()].index))"
      ],
      "metadata": {
        "id": "Jnc38aY5JZP6"
      },
      "execution_count": 5,
      "outputs": []
    },
    {
      "cell_type": "code",
      "source": [
        "import time\n",
        "start_time = time.time()\n",
        "\n",
        "imputer = SimpleImputer(strategy = 'median')\n",
        "imputer.fit(df)\n",
        "sales_data_imputed_median = imputer.transform(df)\n",
        "\n",
        "\n",
        "print(\"--- %s seconds ---\" % (time.time() - start_time))"
      ],
      "metadata": {
        "colab": {
          "base_uri": "https://localhost:8080/"
        },
        "id": "HTRTheOsJeiO",
        "outputId": "ab84a118-f4ba-488b-8949-fa6fbdba7912"
      },
      "execution_count": 6,
      "outputs": [
        {
          "output_type": "stream",
          "name": "stdout",
          "text": [
            "--- 0.16618943214416504 seconds ---\n"
          ]
        }
      ]
    },
    {
      "cell_type": "code",
      "source": [
        "sales_data_si_median = pd.DataFrame(sales_data_imputed_median, columns=df.columns)\n",
        "sales_data_si_median.head()"
      ],
      "metadata": {
        "colab": {
          "base_uri": "https://localhost:8080/",
          "height": 300
        },
        "id": "tppBkXZ3Jl9H",
        "outputId": "bf0eb167-ab63-43b6-8518-de0d96d95919"
      },
      "execution_count": 8,
      "outputs": [
        {
          "output_type": "execute_result",
          "data": {
            "text/plain": [
              "     hour  order_id  customer_id  product_id  product_price  variant_id  \\\n",
              "0  3425.0       0.0          0.0         0.0            0.0         0.0   \n",
              "1  3426.0       0.0          0.0         0.0            0.0         0.0   \n",
              "2  3427.0       0.0          0.0         0.0            0.0         0.0   \n",
              "3  3428.0       0.0          0.0         0.0            0.0         0.0   \n",
              "4  3429.0       0.0          0.0         0.0            0.0         0.0   \n",
              "\n",
              "   orders  gross_sales  discounts  returns  ...  total_sales  \\\n",
              "0     0.0          0.0      310.0     85.0  ...         58.0   \n",
              "1     0.0          0.0      310.0     85.0  ...         58.0   \n",
              "2     0.0          0.0      310.0     85.0  ...         58.0   \n",
              "3     0.0          0.0      310.0     85.0  ...         58.0   \n",
              "4     0.0          0.0      310.0     85.0  ...         58.0   \n",
              "\n",
              "   ordered_item_quantity  net_quantity  returned_item_quantity  order_name  \\\n",
              "0                    0.0           4.0                     4.0      4773.0   \n",
              "1                    0.0           4.0                     4.0      4773.0   \n",
              "2                    0.0           4.0                     4.0      4773.0   \n",
              "3                    0.0           4.0                     4.0      4773.0   \n",
              "4                    0.0           4.0                     4.0      4773.0   \n",
              "\n",
              "   product_type  product_title  product_vendor  variant_title  \\\n",
              "0           9.0         2248.0            89.0           61.0   \n",
              "1           9.0         2248.0            89.0           61.0   \n",
              "2           9.0         2248.0            89.0           61.0   \n",
              "3           9.0         2248.0            89.0           61.0   \n",
              "4           9.0         2248.0            89.0           61.0   \n",
              "\n",
              "   api_client_title  \n",
              "0               2.0  \n",
              "1               2.0  \n",
              "2               2.0  \n",
              "3               2.0  \n",
              "4               2.0  \n",
              "\n",
              "[5 rows x 23 columns]"
            ],
            "text/html": [
              "\n",
              "  <div id=\"df-e0f18905-f41a-44ed-a179-6b9ae98a6222\">\n",
              "    <div class=\"colab-df-container\">\n",
              "      <div>\n",
              "<style scoped>\n",
              "    .dataframe tbody tr th:only-of-type {\n",
              "        vertical-align: middle;\n",
              "    }\n",
              "\n",
              "    .dataframe tbody tr th {\n",
              "        vertical-align: top;\n",
              "    }\n",
              "\n",
              "    .dataframe thead th {\n",
              "        text-align: right;\n",
              "    }\n",
              "</style>\n",
              "<table border=\"1\" class=\"dataframe\">\n",
              "  <thead>\n",
              "    <tr style=\"text-align: right;\">\n",
              "      <th></th>\n",
              "      <th>hour</th>\n",
              "      <th>order_id</th>\n",
              "      <th>customer_id</th>\n",
              "      <th>product_id</th>\n",
              "      <th>product_price</th>\n",
              "      <th>variant_id</th>\n",
              "      <th>orders</th>\n",
              "      <th>gross_sales</th>\n",
              "      <th>discounts</th>\n",
              "      <th>returns</th>\n",
              "      <th>...</th>\n",
              "      <th>total_sales</th>\n",
              "      <th>ordered_item_quantity</th>\n",
              "      <th>net_quantity</th>\n",
              "      <th>returned_item_quantity</th>\n",
              "      <th>order_name</th>\n",
              "      <th>product_type</th>\n",
              "      <th>product_title</th>\n",
              "      <th>product_vendor</th>\n",
              "      <th>variant_title</th>\n",
              "      <th>api_client_title</th>\n",
              "    </tr>\n",
              "  </thead>\n",
              "  <tbody>\n",
              "    <tr>\n",
              "      <th>0</th>\n",
              "      <td>3425.0</td>\n",
              "      <td>0.0</td>\n",
              "      <td>0.0</td>\n",
              "      <td>0.0</td>\n",
              "      <td>0.0</td>\n",
              "      <td>0.0</td>\n",
              "      <td>0.0</td>\n",
              "      <td>0.0</td>\n",
              "      <td>310.0</td>\n",
              "      <td>85.0</td>\n",
              "      <td>...</td>\n",
              "      <td>58.0</td>\n",
              "      <td>0.0</td>\n",
              "      <td>4.0</td>\n",
              "      <td>4.0</td>\n",
              "      <td>4773.0</td>\n",
              "      <td>9.0</td>\n",
              "      <td>2248.0</td>\n",
              "      <td>89.0</td>\n",
              "      <td>61.0</td>\n",
              "      <td>2.0</td>\n",
              "    </tr>\n",
              "    <tr>\n",
              "      <th>1</th>\n",
              "      <td>3426.0</td>\n",
              "      <td>0.0</td>\n",
              "      <td>0.0</td>\n",
              "      <td>0.0</td>\n",
              "      <td>0.0</td>\n",
              "      <td>0.0</td>\n",
              "      <td>0.0</td>\n",
              "      <td>0.0</td>\n",
              "      <td>310.0</td>\n",
              "      <td>85.0</td>\n",
              "      <td>...</td>\n",
              "      <td>58.0</td>\n",
              "      <td>0.0</td>\n",
              "      <td>4.0</td>\n",
              "      <td>4.0</td>\n",
              "      <td>4773.0</td>\n",
              "      <td>9.0</td>\n",
              "      <td>2248.0</td>\n",
              "      <td>89.0</td>\n",
              "      <td>61.0</td>\n",
              "      <td>2.0</td>\n",
              "    </tr>\n",
              "    <tr>\n",
              "      <th>2</th>\n",
              "      <td>3427.0</td>\n",
              "      <td>0.0</td>\n",
              "      <td>0.0</td>\n",
              "      <td>0.0</td>\n",
              "      <td>0.0</td>\n",
              "      <td>0.0</td>\n",
              "      <td>0.0</td>\n",
              "      <td>0.0</td>\n",
              "      <td>310.0</td>\n",
              "      <td>85.0</td>\n",
              "      <td>...</td>\n",
              "      <td>58.0</td>\n",
              "      <td>0.0</td>\n",
              "      <td>4.0</td>\n",
              "      <td>4.0</td>\n",
              "      <td>4773.0</td>\n",
              "      <td>9.0</td>\n",
              "      <td>2248.0</td>\n",
              "      <td>89.0</td>\n",
              "      <td>61.0</td>\n",
              "      <td>2.0</td>\n",
              "    </tr>\n",
              "    <tr>\n",
              "      <th>3</th>\n",
              "      <td>3428.0</td>\n",
              "      <td>0.0</td>\n",
              "      <td>0.0</td>\n",
              "      <td>0.0</td>\n",
              "      <td>0.0</td>\n",
              "      <td>0.0</td>\n",
              "      <td>0.0</td>\n",
              "      <td>0.0</td>\n",
              "      <td>310.0</td>\n",
              "      <td>85.0</td>\n",
              "      <td>...</td>\n",
              "      <td>58.0</td>\n",
              "      <td>0.0</td>\n",
              "      <td>4.0</td>\n",
              "      <td>4.0</td>\n",
              "      <td>4773.0</td>\n",
              "      <td>9.0</td>\n",
              "      <td>2248.0</td>\n",
              "      <td>89.0</td>\n",
              "      <td>61.0</td>\n",
              "      <td>2.0</td>\n",
              "    </tr>\n",
              "    <tr>\n",
              "      <th>4</th>\n",
              "      <td>3429.0</td>\n",
              "      <td>0.0</td>\n",
              "      <td>0.0</td>\n",
              "      <td>0.0</td>\n",
              "      <td>0.0</td>\n",
              "      <td>0.0</td>\n",
              "      <td>0.0</td>\n",
              "      <td>0.0</td>\n",
              "      <td>310.0</td>\n",
              "      <td>85.0</td>\n",
              "      <td>...</td>\n",
              "      <td>58.0</td>\n",
              "      <td>0.0</td>\n",
              "      <td>4.0</td>\n",
              "      <td>4.0</td>\n",
              "      <td>4773.0</td>\n",
              "      <td>9.0</td>\n",
              "      <td>2248.0</td>\n",
              "      <td>89.0</td>\n",
              "      <td>61.0</td>\n",
              "      <td>2.0</td>\n",
              "    </tr>\n",
              "  </tbody>\n",
              "</table>\n",
              "<p>5 rows × 23 columns</p>\n",
              "</div>\n",
              "      <button class=\"colab-df-convert\" onclick=\"convertToInteractive('df-e0f18905-f41a-44ed-a179-6b9ae98a6222')\"\n",
              "              title=\"Convert this dataframe to an interactive table.\"\n",
              "              style=\"display:none;\">\n",
              "        \n",
              "  <svg xmlns=\"http://www.w3.org/2000/svg\" height=\"24px\"viewBox=\"0 0 24 24\"\n",
              "       width=\"24px\">\n",
              "    <path d=\"M0 0h24v24H0V0z\" fill=\"none\"/>\n",
              "    <path d=\"M18.56 5.44l.94 2.06.94-2.06 2.06-.94-2.06-.94-.94-2.06-.94 2.06-2.06.94zm-11 1L8.5 8.5l.94-2.06 2.06-.94-2.06-.94L8.5 2.5l-.94 2.06-2.06.94zm10 10l.94 2.06.94-2.06 2.06-.94-2.06-.94-.94-2.06-.94 2.06-2.06.94z\"/><path d=\"M17.41 7.96l-1.37-1.37c-.4-.4-.92-.59-1.43-.59-.52 0-1.04.2-1.43.59L10.3 9.45l-7.72 7.72c-.78.78-.78 2.05 0 2.83L4 21.41c.39.39.9.59 1.41.59.51 0 1.02-.2 1.41-.59l7.78-7.78 2.81-2.81c.8-.78.8-2.07 0-2.86zM5.41 20L4 18.59l7.72-7.72 1.47 1.35L5.41 20z\"/>\n",
              "  </svg>\n",
              "      </button>\n",
              "      \n",
              "  <style>\n",
              "    .colab-df-container {\n",
              "      display:flex;\n",
              "      flex-wrap:wrap;\n",
              "      gap: 12px;\n",
              "    }\n",
              "\n",
              "    .colab-df-convert {\n",
              "      background-color: #E8F0FE;\n",
              "      border: none;\n",
              "      border-radius: 50%;\n",
              "      cursor: pointer;\n",
              "      display: none;\n",
              "      fill: #1967D2;\n",
              "      height: 32px;\n",
              "      padding: 0 0 0 0;\n",
              "      width: 32px;\n",
              "    }\n",
              "\n",
              "    .colab-df-convert:hover {\n",
              "      background-color: #E2EBFA;\n",
              "      box-shadow: 0px 1px 2px rgba(60, 64, 67, 0.3), 0px 1px 3px 1px rgba(60, 64, 67, 0.15);\n",
              "      fill: #174EA6;\n",
              "    }\n",
              "\n",
              "    [theme=dark] .colab-df-convert {\n",
              "      background-color: #3B4455;\n",
              "      fill: #D2E3FC;\n",
              "    }\n",
              "\n",
              "    [theme=dark] .colab-df-convert:hover {\n",
              "      background-color: #434B5C;\n",
              "      box-shadow: 0px 1px 3px 1px rgba(0, 0, 0, 0.15);\n",
              "      filter: drop-shadow(0px 1px 2px rgba(0, 0, 0, 0.3));\n",
              "      fill: #FFFFFF;\n",
              "    }\n",
              "  </style>\n",
              "\n",
              "      <script>\n",
              "        const buttonEl =\n",
              "          document.querySelector('#df-e0f18905-f41a-44ed-a179-6b9ae98a6222 button.colab-df-convert');\n",
              "        buttonEl.style.display =\n",
              "          google.colab.kernel.accessAllowed ? 'block' : 'none';\n",
              "\n",
              "        async function convertToInteractive(key) {\n",
              "          const element = document.querySelector('#df-e0f18905-f41a-44ed-a179-6b9ae98a6222');\n",
              "          const dataTable =\n",
              "            await google.colab.kernel.invokeFunction('convertToInteractive',\n",
              "                                                     [key], {});\n",
              "          if (!dataTable) return;\n",
              "\n",
              "          const docLinkHtml = 'Like what you see? Visit the ' +\n",
              "            '<a target=\"_blank\" href=https://colab.research.google.com/notebooks/data_table.ipynb>data table notebook</a>'\n",
              "            + ' to learn more about interactive tables.';\n",
              "          element.innerHTML = '';\n",
              "          dataTable['output_type'] = 'display_data';\n",
              "          await google.colab.output.renderOutput(dataTable, element);\n",
              "          const docLink = document.createElement('div');\n",
              "          docLink.innerHTML = docLinkHtml;\n",
              "          element.appendChild(docLink);\n",
              "        }\n",
              "      </script>\n",
              "    </div>\n",
              "  </div>\n",
              "  "
            ]
          },
          "metadata": {},
          "execution_count": 8
        }
      ]
    },
    {
      "cell_type": "code",
      "source": [
        "sales_data_si_median.isnull().sum()"
      ],
      "metadata": {
        "colab": {
          "base_uri": "https://localhost:8080/"
        },
        "id": "n3DaMVyDJvdv",
        "outputId": "e2a4ab23-9d3f-4f5d-c8f2-145300f04f95"
      },
      "execution_count": 9,
      "outputs": [
        {
          "output_type": "execute_result",
          "data": {
            "text/plain": [
              "hour                      0\n",
              "order_id                  0\n",
              "customer_id               0\n",
              "product_id                0\n",
              "product_price             0\n",
              "variant_id                0\n",
              "orders                    0\n",
              "gross_sales               0\n",
              "discounts                 0\n",
              "returns                   0\n",
              "net_sales                 0\n",
              "shipping                  0\n",
              "taxes                     0\n",
              "total_sales               0\n",
              "ordered_item_quantity     0\n",
              "net_quantity              0\n",
              "returned_item_quantity    0\n",
              "order_name                0\n",
              "product_type              0\n",
              "product_title             0\n",
              "product_vendor            0\n",
              "variant_title             0\n",
              "api_client_title          0\n",
              "dtype: int64"
            ]
          },
          "metadata": {},
          "execution_count": 9
        }
      ]
    }
  ]
}